{
 "cells": [
  {
   "cell_type": "code",
   "execution_count": 24,
   "metadata": {
    "id": "7IKrZlDiAcM6"
   },
   "outputs": [],
   "source": [
    "## Rekayasa Perangkat Lunak Menggunakan SKLearn, TFID-Vectorizer, dan Algoritma Passive Aggressive Classifier\n",
    "\n",
    "## Diajukan untuk Tugas Ujian Akhir Semester mata kuliah Rekasaya Perangkat Lunak Lanjut\n",
    "## Disusun oleh:\n",
    "## * 2021130019 - Nathanael Ferry Pratama\n",
    "## * 2021130021 - Jevon Ivander Juandy\n"
   ]
  },
  {
   "cell_type": "code",
   "execution_count": 25,
   "metadata": {
    "colab": {
     "base_uri": "https://localhost:8080/"
    },
    "executionInfo": {
     "elapsed": 3453,
     "status": "ok",
     "timestamp": 1699895879716,
     "user": {
      "displayName": "Pratama Nathanael Ferry",
      "userId": "10772248483527331591"
     },
     "user_tz": -420
    },
    "id": "hoePd9uP5Sai",
    "outputId": "a911fa46-a275-4f18-d2e2-b02611108181"
   },
   "outputs": [],
   "source": [
    "# Import library yang dibutuhkan\n",
    "import numpy as np\n",
    "import pandas as pd\n",
    "import itertools\n",
    "from sklearn.model_selection import train_test_split\n",
    "from sklearn.feature_extraction.text import TfidfVectorizer\n",
    "from sklearn.linear_model import PassiveAggressiveClassifier\n",
    "from sklearn.metrics import accuracy_score, confusion_matrix\n",
    "from sklearn.metrics import classification_report\n",
    "\n",
    "import joblib\n",
    "import seaborn as sns\n",
    "import matplotlib.pyplot as plt\n"
   ]
  },
  {
   "cell_type": "code",
   "execution_count": 26,
   "metadata": {
    "colab": {
     "base_uri": "https://localhost:8080/",
     "height": 225
    },
    "executionInfo": {
     "elapsed": 11877,
     "status": "ok",
     "timestamp": 1699895891583,
     "user": {
      "displayName": "Pratama Nathanael Ferry",
      "userId": "10772248483527331591"
     },
     "user_tz": -420
    },
    "id": "Mofy4sm_552m",
    "outputId": "41e74cc6-3e85-4830-dc64-236b4ce75481"
   },
   "outputs": [
    {
     "name": "stdout",
     "output_type": "stream",
     "text": [
      "shape :  (26847, 4)\n"
     ]
    },
    {
     "data": {
      "text/html": [
       "<div>\n",
       "<style scoped>\n",
       "    .dataframe tbody tr th:only-of-type {\n",
       "        vertical-align: middle;\n",
       "    }\n",
       "\n",
       "    .dataframe tbody tr th {\n",
       "        vertical-align: top;\n",
       "    }\n",
       "\n",
       "    .dataframe thead th {\n",
       "        text-align: right;\n",
       "    }\n",
       "</style>\n",
       "<table border=\"1\" class=\"dataframe\">\n",
       "  <thead>\n",
       "    <tr style=\"text-align: right;\">\n",
       "      <th></th>\n",
       "      <th>Unnamed: 0</th>\n",
       "      <th>title</th>\n",
       "      <th>text_new</th>\n",
       "      <th>label</th>\n",
       "    </tr>\n",
       "  </thead>\n",
       "  <tbody>\n",
       "    <tr>\n",
       "      <th>0</th>\n",
       "      <td>337</td>\n",
       "      <td>BERITA FOTO: Megawati Pidato di HUT Ke-50 PDI ...</td>\n",
       "      <td>BERITA FOTO Megawati Pidato di HUT Ke50 PDI Pe...</td>\n",
       "      <td>REAL</td>\n",
       "    </tr>\n",
       "    <tr>\n",
       "      <th>1</th>\n",
       "      <td>1221</td>\n",
       "      <td>[SALAH] “Kadrun adalah sebutan PKI tahun 1960a...</td>\n",
       "      <td>Kadrun kadal gurun adalah sebutan PKIkomunis t...</td>\n",
       "      <td>FAKE</td>\n",
       "    </tr>\n",
       "    <tr>\n",
       "      <th>2</th>\n",
       "      <td>9870</td>\n",
       "      <td>[HOAX] Shinta Nuriyah Dikatakan Berkomentar So...</td>\n",
       "      <td>Wahai Saudaraku Barisan Ansor Barisan yang sel...</td>\n",
       "      <td>FAKE</td>\n",
       "    </tr>\n",
       "    <tr>\n",
       "      <th>3</th>\n",
       "      <td>3150</td>\n",
       "      <td>Survei Indikator: Kepuasan Publik Atas Kinerja...</td>\n",
       "      <td>Survei Indikator Kepuasan Publik Atas Kinerja ...</td>\n",
       "      <td>REAL</td>\n",
       "    </tr>\n",
       "    <tr>\n",
       "      <th>4</th>\n",
       "      <td>721</td>\n",
       "      <td>[SALAH]: Puluhan Orang Cidera Parah Gas Air Ma...</td>\n",
       "      <td>BERITA TERKINI APARAT BIADAP PULUHAN JADI KORB...</td>\n",
       "      <td>FAKE</td>\n",
       "    </tr>\n",
       "  </tbody>\n",
       "</table>\n",
       "</div>"
      ],
      "text/plain": [
       "   Unnamed: 0                                              title  \\\n",
       "0         337  BERITA FOTO: Megawati Pidato di HUT Ke-50 PDI ...   \n",
       "1        1221  [SALAH] “Kadrun adalah sebutan PKI tahun 1960a...   \n",
       "2        9870  [HOAX] Shinta Nuriyah Dikatakan Berkomentar So...   \n",
       "3        3150  Survei Indikator: Kepuasan Publik Atas Kinerja...   \n",
       "4         721  [SALAH]: Puluhan Orang Cidera Parah Gas Air Ma...   \n",
       "\n",
       "                                            text_new label  \n",
       "0  BERITA FOTO Megawati Pidato di HUT Ke50 PDI Pe...  REAL  \n",
       "1  Kadrun kadal gurun adalah sebutan PKIkomunis t...  FAKE  \n",
       "2  Wahai Saudaraku Barisan Ansor Barisan yang sel...  FAKE  \n",
       "3  Survei Indikator Kepuasan Publik Atas Kinerja ...  REAL  \n",
       "4  BERITA TERKINI APARAT BIADAP PULUHAN JADI KORB...  FAKE  "
      ]
     },
     "execution_count": 26,
     "metadata": {},
     "output_type": "execute_result"
    }
   ],
   "source": [
    "# Membaca data\n",
    "dataframenya = pd.read_excel('data_indonesia/dataset_full.xlsx')\n",
    "\n",
    "# Menampilkan shape dan lima baris pertama dalam dataset\n",
    "print(\"shape : \", dataframenya.shape)\n",
    "dataframenya.head()"
   ]
  },
  {
   "cell_type": "code",
   "execution_count": 27,
   "metadata": {
    "colab": {
     "base_uri": "https://localhost:8080/"
    },
    "executionInfo": {
     "elapsed": 50,
     "status": "ok",
     "timestamp": 1699895891584,
     "user": {
      "displayName": "Pratama Nathanael Ferry",
      "userId": "10772248483527331591"
     },
     "user_tz": -420
    },
    "id": "cORkD8hV7atZ",
    "outputId": "60e30df3-eabf-40dd-ba27-4cd087ddfcb1"
   },
   "outputs": [
    {
     "data": {
      "text/plain": [
       "0    REAL\n",
       "1    FAKE\n",
       "2    FAKE\n",
       "3    REAL\n",
       "4    FAKE\n",
       "Name: label, dtype: object"
      ]
     },
     "execution_count": 27,
     "metadata": {},
     "output_type": "execute_result"
    }
   ],
   "source": [
    "# Menampilkan label-labelnya\n",
    "labels = dataframenya.label\n",
    "labels.head()"
   ]
  },
  {
   "cell_type": "code",
   "execution_count": 28,
   "metadata": {
    "colab": {
     "base_uri": "https://localhost:8080/"
    },
    "executionInfo": {
     "elapsed": 43,
     "status": "ok",
     "timestamp": 1699895891585,
     "user": {
      "displayName": "Pratama Nathanael Ferry",
      "userId": "10772248483527331591"
     },
     "user_tz": -420
    },
    "id": "LB2E37ilJXJk",
    "outputId": "8b5b09d8-d065-4cac-e2d8-52999a1d2a7f"
   },
   "outputs": [
    {
     "data": {
      "text/plain": [
       "0    BERITA FOTO: Megawati Pidato di HUT Ke-50 PDI ...\n",
       "1    [SALAH] “Kadrun adalah sebutan PKI tahun 1960a...\n",
       "2    [HOAX] Shinta Nuriyah Dikatakan Berkomentar So...\n",
       "3    Survei Indikator: Kepuasan Publik Atas Kinerja...\n",
       "4    [SALAH]: Puluhan Orang Cidera Parah Gas Air Ma...\n",
       "Name: title, dtype: object"
      ]
     },
     "execution_count": 28,
     "metadata": {},
     "output_type": "execute_result"
    }
   ],
   "source": [
    "# Menampilkan title\n",
    "titles = dataframenya.title\n",
    "titles.head()"
   ]
  },
  {
   "cell_type": "code",
   "execution_count": 29,
   "metadata": {
    "executionInfo": {
     "elapsed": 31,
     "status": "ok",
     "timestamp": 1699895891586,
     "user": {
      "displayName": "Pratama Nathanael Ferry",
      "userId": "10772248483527331591"
     },
     "user_tz": -420
    },
    "id": "QHUi7P8o7eiN"
   },
   "outputs": [],
   "source": [
    "# Split dataset menjadi training dan testing sets\n",
    "x_train, x_test, y_train, y_test = train_test_split(dataframenya['text_new'], labels, test_size=0.2, random_state=7)"
   ]
  },
  {
   "cell_type": "code",
   "execution_count": 30,
   "metadata": {
    "executionInfo": {
     "elapsed": 15041,
     "status": "ok",
     "timestamp": 1699895906598,
     "user": {
      "displayName": "Pratama Nathanael Ferry",
      "userId": "10772248483527331591"
     },
     "user_tz": -420
    },
    "id": "nYaySGC37hQw"
   },
   "outputs": [],
   "source": [
    "# Daftar kata-kata \"stop words\" dalam bahasa Indonesia\n",
    "stop_words_indonesia = [\"dan\", \"di\", \"ke\", \"dari\", \"untuk\", \"adalah\", \"pada\", \"dalam\", \"itu\", \"dengan\", \"atau\", \"oleh\", \"yang\", \"saya\", \"kita\", \"mereka\", \"kamu\", \"akan\", \"juga\", \"bagi\", \"namun\", \"apakah\", \"mengapa\", \"ketika\", \"sehingga\", \"hanya\", \"belum\", \"lagi\", \"sudah\", \"tapi\", \"kami\", \"anda\", \"ia\", \"kini\", \"saja\", \"boleh\", \"bolehkah\", \"harus\", \"perlu\", \"mesti\", \"bisa\", \"dapat\", \"masih\", \"tidak\", \"ya\", \"tidak\", \"iya\", \"ya\", \"tentang\", \"menurut\", \"menjadi\", \"kemudian\", \"begini\", \"begitu\", \"setelah\", \"sebelum\", \"hingga\", \"serta\", \"itulah\", \"padahal\", \"tetapi\", \"jika\", \"sebab\", \"karena\", \"maka\", \"kemudian\", \"tadinya\", \"sambil\", \"kecuali\", \"supaya\", \"meskipun\", \"sebab\", \"kalau\", \"apabila\", \"meski\", \"walaupun\", \"bagaimana\", \"beginilah\", \"beginikan\", \"selama\", \"paling\", \"lebih\", \"setiap\", \"hampir\", \"terlalu\", \"mungkin\", \"sedikit\", \"justru\", \"bahkan\", \"sering\", \"biasanya\", \"saja\", \"cuma\", \"malah\", \"baru\", \"seperti\", \"tersebut\", \"ingin\", \"boleh\", \"tidak\", \"belumlah\", \"tapi\", \"sudahlah\", \"ya\", \"mari\", \"ayo\", \"hayo\", \"hanya\", \"saja\", \"lagi\", \"nanti\", \"setelah\", \"besok\", \"siang\", \"malam\", \"minggu\", \"bulan\", \"tahun\", \"yang\", \"ini\", \"itu\", \"anu\", \"deh\", \"banget\", \"dong\", \"nongkrong\", \"udah\", \"belom\", \"masuk\", \"kemana\", \"nanya\", \"berapa\", \"sih\", \"dong\", \"ngejar\", \"serius\", \"lho\", \"loh\", \"katanya\", \"lah\", \"kan\", \"nggak\", \"gimana\", \"ngga\", \"duh\", \"yo\", \"bang\", \"bro\", \"pa\", \"mbak\", \"mas\", \"mbak\", \"dok\", \"suster\", \"dr\"]\n",
    "\n",
    "# Inisialisasi TfidfVectorizer\n",
    "tfidf_vectorizer = TfidfVectorizer(stop_words=stop_words_indonesia, max_df=0.7)\n",
    "\n",
    "# Fit dan transform train set, transform test set\n",
    "tfidf_train = tfidf_vectorizer.fit_transform(x_train)\n",
    "tfidf_test = tfidf_vectorizer.transform(x_test)"
   ]
  },
  {
   "cell_type": "code",
   "execution_count": 31,
   "metadata": {
    "colab": {
     "base_uri": "https://localhost:8080/"
    },
    "executionInfo": {
     "elapsed": 65,
     "status": "ok",
     "timestamp": 1699895906600,
     "user": {
      "displayName": "Pratama Nathanael Ferry",
      "userId": "10772248483527331591"
     },
     "user_tz": -420
    },
    "id": "0SLOO6_W7oj-",
    "outputId": "1073ce8f-e5d8-474b-e98a-9ae01f3f18a6"
   },
   "outputs": [
    {
     "name": "stdout",
     "output_type": "stream",
     "text": [
      "Akurasi : 98.53%\n"
     ]
    }
   ],
   "source": [
    "# Inisialisasi PassiveAggressiveClassifier\n",
    "pac = PassiveAggressiveClassifier(max_iter=50)\n",
    "pac.fit(tfidf_train, y_train)\n",
    "\n",
    "# Prediksi test set dan kalkulasi keakuratan\n",
    "y_pred = pac.predict(tfidf_test)\n",
    "score = accuracy_score(y_test, y_pred)\n",
    "print(f'Akurasi : {round(score*100,2)}%')"
   ]
  },
  {
   "cell_type": "code",
   "execution_count": 32,
   "metadata": {
    "colab": {
     "base_uri": "https://localhost:8080/",
     "height": 601
    },
    "executionInfo": {
     "elapsed": 780,
     "status": "ok",
     "timestamp": 1699895907321,
     "user": {
      "displayName": "Pratama Nathanael Ferry",
      "userId": "10772248483527331591"
     },
     "user_tz": -420
    },
    "id": "465ZPatR7u9F",
    "outputId": "11f669cd-e327-4c1b-b91e-b588fd2b134b"
   },
   "outputs": [
    {
     "name": "stdout",
     "output_type": "stream",
     "text": [
      "[[1203   47]\n",
      " [  32 4088]]\n"
     ]
    },
    {
     "data": {
      "image/png": "[encoded data removed]",
      "text/plain": [
       "<Figure size 800x600 with 2 Axes>"
      ]
     },
     "metadata": {},
     "output_type": "display_data"
    }
   ],
   "source": [
    "# Membuat confusion matrix\n",
    "cm = confusion_matrix(y_test,y_pred, labels = ['FAKE','REAL'])\n",
    "print(cm)\n",
    "\n",
    "# Visualisasi menggunakan heatmap dari seaborn\n",
    "plt.figure(figsize=(8, 6))\n",
    "sns.heatmap(cm, annot=True, fmt='d', cmap='Blues', xticklabels=['FAKE', 'REAL'], yticklabels=['FAKE', 'REAL'])\n",
    "plt.xlabel('Predicted')\n",
    "plt.ylabel('Actual')\n",
    "plt.title('Confusion Matrix')\n",
    "plt.show()"
   ]
  },
  {
   "cell_type": "code",
   "execution_count": 33,
   "metadata": {},
   "outputs": [
    {
     "name": "stdout",
     "output_type": "stream",
     "text": [
      "Classification Report:\n",
      "              precision    recall  f1-score   support\n",
      "\n",
      "        FAKE       0.97      0.96      0.97      1250\n",
      "        REAL       0.99      0.99      0.99      4120\n",
      "\n",
      "    accuracy                           0.99      5370\n",
      "   macro avg       0.98      0.98      0.98      5370\n",
      "weighted avg       0.99      0.99      0.99      5370\n",
      "\n"
     ]
    }
   ],
   "source": [
    "# Evaluasi model dengan metrik tambahan\n",
    "print(\"Classification Report:\")\n",
    "print(classification_report(y_test, y_pred, target_names=['FAKE', 'REAL']))"
   ]
  },
  {
   "cell_type": "code",
   "execution_count": 34,
   "metadata": {
    "executionInfo": {
     "elapsed": 451,
     "status": "ok",
     "timestamp": 1699896287120,
     "user": {
      "displayName": "Pratama Nathanael Ferry",
      "userId": "10772248483527331591"
     },
     "user_tz": -420
    },
    "id": "BfDacg4OAitV"
   },
   "outputs": [],
   "source": [
    "# Membuat DataFrame baru untuk data testing\n",
    "testing_data = x_test.to_frame()\n",
    "testing_data['actual_label'] = y_test\n",
    "testing_data['predicted_label'] = y_pred\n",
    "\n",
    "# Filter data 'FAKE' dan 'REAL'\n",
    "fake_data = testing_data[testing_data['predicted_label'] == 'FAKE']\n",
    "real_data = testing_data[testing_data['predicted_label'] == 'REAL']\n",
    "\n",
    "# Ekspor Data ke CSV\n",
    "fake_data.to_csv('data_indonesia/fake_data_predicted.csv', index=False)\n",
    "real_data.to_csv('data_indonesia/real_data_predicted.csv', index=False)"
   ]
  },
  {
   "cell_type": "code",
   "execution_count": 38,
   "metadata": {},
   "outputs": [
    {
     "name": "stderr",
     "output_type": "stream",
     "text": [
      "C:\\laragon\\bin\\python\\python-3.10\\lib\\site-packages\\sklearn\\base.py:458: UserWarning: X has feature names, but PassiveAggressiveClassifier was fitted without feature names\n",
      "  warnings.warn(\n"
     ]
    },
    {
     "ename": "ValueError",
     "evalue": "could not convert string to float: 'Mardiono Ungkap Dasar Hukum Pemberhentian Suharso Monoarfa dari Ketum PPP jauh hari sebelumnyaSuharso sebut Pemberhentiannya tak sahSementara itu Suharso menyatakan keputusan pemakzulannya dari jabatan Ketua Umum PPP tidak sah Menurutnya rapat pimpinan harian mestinya dilakukan dengan sepengetahuannya Adapun jika Suharso berhalangan hadir maka ia bakal mengirim delegasiRapat pimpinan harian harus sepengetahuan saya minimal dan saya tanda tangani atau Sekretaris Jenderal Boleh saja saya berhalangan hadir dan meminta salah satu ketua umum untuk memimpin tapi rapat pimpinan harian mesti dipimpin ketum diinisiasi ketum dan ditandatangani ketum Kemudian itu tidak dilakukan kata Suharso saat ditemui di Hotel Aston Kuningan Jakarta Selatan Selasa 6 September 2022Apalagi kata Suharso setelah rapat pimpinan harian para pengurus memutuskan melakukan mukernas Menurutnya mukernas tidak pernah dilakukan dalam waktu yang singkat Dia mengatakan ada pihak yang meminta untuk digelar mukernas namun setelah dikaliberasi permintaan ini tidak benarHal lain yang menurut Suharso tidak baik adalah mukernas digelar tanpa mendapatkan Surat Tanda Terima Pemberitahuan STTP dari Kepolisian RI Menurutnya untuk menggelar forum tingkat nasional seperti mukernas maka perlu ada STTP yang dikeluarkan pihak kepolisianDan saya juga mendapatkan laporan Mukernas itu tidak mendapatkan STTP dari Polri Karena ini tingkatan nasional maka ini yang mengeluarkan harusnya Mabes Polri Dan saya mengatakan itu tidak oleh kami Kami juga laporkan ke Kapolri bahwa itu tidak benar Bahwa kami tidak sedang melakukan Mukernas ujarnya'",
     "output_type": "error",
     "traceback": [
      "\u001b[1;31m---------------------------------------------------------------------------\u001b[0m",
      "\u001b[1;31mValueError\u001b[0m                                Traceback (most recent call last)",
      "\u001b[1;32m~\\AppData\\Local\\Temp\\2\\ipykernel_1900\\2992317115.py\u001b[0m in \u001b[0;36m?\u001b[1;34m()\u001b[0m\n\u001b[0;32m      1\u001b[0m \u001b[1;31m# Evaluasi model pada data testing\u001b[0m\u001b[1;33m\u001b[0m\u001b[1;33m\u001b[0m\u001b[0m\n\u001b[1;32m----> 2\u001b[1;33m \u001b[0my_test_pred\u001b[0m \u001b[1;33m=\u001b[0m \u001b[0mpac\u001b[0m\u001b[1;33m.\u001b[0m\u001b[0mpredict\u001b[0m\u001b[1;33m(\u001b[0m\u001b[0mtesting_data\u001b[0m\u001b[1;33m)\u001b[0m\u001b[1;33m\u001b[0m\u001b[1;33m\u001b[0m\u001b[0m\n\u001b[0m\u001b[0;32m      3\u001b[0m \u001b[0mtest_score\u001b[0m \u001b[1;33m=\u001b[0m \u001b[0maccuracy_score\u001b[0m\u001b[1;33m(\u001b[0m\u001b[0my_test\u001b[0m\u001b[1;33m,\u001b[0m \u001b[0my_test_pred\u001b[0m\u001b[1;33m)\u001b[0m\u001b[1;33m\u001b[0m\u001b[1;33m\u001b[0m\u001b[0m\n\u001b[0;32m      4\u001b[0m \u001b[1;33m\u001b[0m\u001b[0m\n\u001b[0;32m      5\u001b[0m \u001b[1;31m# Menampilkan akurasi pada data testing\u001b[0m\u001b[1;33m\u001b[0m\u001b[1;33m\u001b[0m\u001b[0m\n",
      "\u001b[1;32mC:\\laragon\\bin\\python\\python-3.10\\lib\\site-packages\\sklearn\\linear_model\\_base.py\u001b[0m in \u001b[0;36m?\u001b[1;34m(self, X)\u001b[0m\n\u001b[0;32m    447\u001b[0m         \u001b[0my_pred\u001b[0m \u001b[1;33m:\u001b[0m \u001b[0mndarray\u001b[0m \u001b[0mof\u001b[0m \u001b[0mshape\u001b[0m \u001b[1;33m(\u001b[0m\u001b[0mn_samples\u001b[0m\u001b[1;33m,\u001b[0m\u001b[1;33m)\u001b[0m\u001b[1;33m\u001b[0m\u001b[1;33m\u001b[0m\u001b[0m\n\u001b[0;32m    448\u001b[0m             \u001b[0mVector\u001b[0m \u001b[0mcontaining\u001b[0m \u001b[0mthe\u001b[0m \u001b[1;32mclass\u001b[0m \u001b[0mlabels\u001b[0m \u001b[1;32mfor\u001b[0m \u001b[0meach\u001b[0m \u001b[0msample\u001b[0m\u001b[1;33m.\u001b[0m\u001b[1;33m\u001b[0m\u001b[1;33m\u001b[0m\u001b[0m\n\u001b[0;32m    449\u001b[0m         \"\"\"\n\u001b[0;32m    450\u001b[0m         \u001b[0mxp\u001b[0m\u001b[1;33m,\u001b[0m \u001b[0m_\u001b[0m \u001b[1;33m=\u001b[0m \u001b[0mget_namespace\u001b[0m\u001b[1;33m(\u001b[0m\u001b[0mX\u001b[0m\u001b[1;33m)\u001b[0m\u001b[1;33m\u001b[0m\u001b[1;33m\u001b[0m\u001b[0m\n\u001b[1;32m--> 451\u001b[1;33m         \u001b[0mscores\u001b[0m \u001b[1;33m=\u001b[0m \u001b[0mself\u001b[0m\u001b[1;33m.\u001b[0m\u001b[0mdecision_function\u001b[0m\u001b[1;33m(\u001b[0m\u001b[0mX\u001b[0m\u001b[1;33m)\u001b[0m\u001b[1;33m\u001b[0m\u001b[1;33m\u001b[0m\u001b[0m\n\u001b[0m\u001b[0;32m    452\u001b[0m         \u001b[1;32mif\u001b[0m \u001b[0mlen\u001b[0m\u001b[1;33m(\u001b[0m\u001b[0mscores\u001b[0m\u001b[1;33m.\u001b[0m\u001b[0mshape\u001b[0m\u001b[1;33m)\u001b[0m \u001b[1;33m==\u001b[0m \u001b[1;36m1\u001b[0m\u001b[1;33m:\u001b[0m\u001b[1;33m\u001b[0m\u001b[1;33m\u001b[0m\u001b[0m\n\u001b[0;32m    453\u001b[0m             \u001b[0mindices\u001b[0m \u001b[1;33m=\u001b[0m \u001b[0mxp\u001b[0m\u001b[1;33m.\u001b[0m\u001b[0mastype\u001b[0m\u001b[1;33m(\u001b[0m\u001b[0mscores\u001b[0m \u001b[1;33m>\u001b[0m \u001b[1;36m0\u001b[0m\u001b[1;33m,\u001b[0m \u001b[0mint\u001b[0m\u001b[1;33m)\u001b[0m\u001b[1;33m\u001b[0m\u001b[1;33m\u001b[0m\u001b[0m\n\u001b[0;32m    454\u001b[0m         \u001b[1;32melse\u001b[0m\u001b[1;33m:\u001b[0m\u001b[1;33m\u001b[0m\u001b[1;33m\u001b[0m\u001b[0m\n",
      "\u001b[1;32mC:\\laragon\\bin\\python\\python-3.10\\lib\\site-packages\\sklearn\\linear_model\\_base.py\u001b[0m in \u001b[0;36m?\u001b[1;34m(self, X)\u001b[0m\n\u001b[0;32m    428\u001b[0m         \"\"\"\n\u001b[0;32m    429\u001b[0m         \u001b[0mcheck_is_fitted\u001b[0m\u001b[1;33m(\u001b[0m\u001b[0mself\u001b[0m\u001b[1;33m)\u001b[0m\u001b[1;33m\u001b[0m\u001b[1;33m\u001b[0m\u001b[0m\n\u001b[0;32m    430\u001b[0m         \u001b[0mxp\u001b[0m\u001b[1;33m,\u001b[0m \u001b[0m_\u001b[0m \u001b[1;33m=\u001b[0m \u001b[0mget_namespace\u001b[0m\u001b[1;33m(\u001b[0m\u001b[0mX\u001b[0m\u001b[1;33m)\u001b[0m\u001b[1;33m\u001b[0m\u001b[1;33m\u001b[0m\u001b[0m\n\u001b[0;32m    431\u001b[0m \u001b[1;33m\u001b[0m\u001b[0m\n\u001b[1;32m--> 432\u001b[1;33m         \u001b[0mX\u001b[0m \u001b[1;33m=\u001b[0m \u001b[0mself\u001b[0m\u001b[1;33m.\u001b[0m\u001b[0m_validate_data\u001b[0m\u001b[1;33m(\u001b[0m\u001b[0mX\u001b[0m\u001b[1;33m,\u001b[0m \u001b[0maccept_sparse\u001b[0m\u001b[1;33m=\u001b[0m\u001b[1;34m\"csr\"\u001b[0m\u001b[1;33m,\u001b[0m \u001b[0mreset\u001b[0m\u001b[1;33m=\u001b[0m\u001b[1;32mFalse\u001b[0m\u001b[1;33m)\u001b[0m\u001b[1;33m\u001b[0m\u001b[1;33m\u001b[0m\u001b[0m\n\u001b[0m\u001b[0;32m    433\u001b[0m         \u001b[0mscores\u001b[0m \u001b[1;33m=\u001b[0m \u001b[0msafe_sparse_dot\u001b[0m\u001b[1;33m(\u001b[0m\u001b[0mX\u001b[0m\u001b[1;33m,\u001b[0m \u001b[0mself\u001b[0m\u001b[1;33m.\u001b[0m\u001b[0mcoef_\u001b[0m\u001b[1;33m.\u001b[0m\u001b[0mT\u001b[0m\u001b[1;33m,\u001b[0m \u001b[0mdense_output\u001b[0m\u001b[1;33m=\u001b[0m\u001b[1;32mTrue\u001b[0m\u001b[1;33m)\u001b[0m \u001b[1;33m+\u001b[0m \u001b[0mself\u001b[0m\u001b[1;33m.\u001b[0m\u001b[0mintercept_\u001b[0m\u001b[1;33m\u001b[0m\u001b[1;33m\u001b[0m\u001b[0m\n\u001b[0;32m    434\u001b[0m         \u001b[1;32mreturn\u001b[0m \u001b[0mxp\u001b[0m\u001b[1;33m.\u001b[0m\u001b[0mreshape\u001b[0m\u001b[1;33m(\u001b[0m\u001b[0mscores\u001b[0m\u001b[1;33m,\u001b[0m \u001b[1;33m(\u001b[0m\u001b[1;33m-\u001b[0m\u001b[1;36m1\u001b[0m\u001b[1;33m,\u001b[0m\u001b[1;33m)\u001b[0m\u001b[1;33m)\u001b[0m \u001b[1;32mif\u001b[0m \u001b[0mscores\u001b[0m\u001b[1;33m.\u001b[0m\u001b[0mshape\u001b[0m\u001b[1;33m[\u001b[0m\u001b[1;36m1\u001b[0m\u001b[1;33m]\u001b[0m \u001b[1;33m==\u001b[0m \u001b[1;36m1\u001b[0m \u001b[1;32melse\u001b[0m \u001b[0mscores\u001b[0m\u001b[1;33m\u001b[0m\u001b[1;33m\u001b[0m\u001b[0m\n",
      "\u001b[1;32mC:\\laragon\\bin\\python\\python-3.10\\lib\\site-packages\\sklearn\\base.py\u001b[0m in \u001b[0;36m?\u001b[1;34m(self, X, y, reset, validate_separately, cast_to_ndarray, **check_params)\u001b[0m\n\u001b[0;32m    601\u001b[0m                 \u001b[0mout\u001b[0m \u001b[1;33m=\u001b[0m \u001b[0my\u001b[0m\u001b[1;33m\u001b[0m\u001b[1;33m\u001b[0m\u001b[0m\n\u001b[0;32m    602\u001b[0m             \u001b[1;32melse\u001b[0m\u001b[1;33m:\u001b[0m\u001b[1;33m\u001b[0m\u001b[1;33m\u001b[0m\u001b[0m\n\u001b[0;32m    603\u001b[0m                 \u001b[0mout\u001b[0m \u001b[1;33m=\u001b[0m \u001b[0mX\u001b[0m\u001b[1;33m,\u001b[0m \u001b[0my\u001b[0m\u001b[1;33m\u001b[0m\u001b[1;33m\u001b[0m\u001b[0m\n\u001b[0;32m    604\u001b[0m         \u001b[1;32melif\u001b[0m \u001b[1;32mnot\u001b[0m \u001b[0mno_val_X\u001b[0m \u001b[1;32mand\u001b[0m \u001b[0mno_val_y\u001b[0m\u001b[1;33m:\u001b[0m\u001b[1;33m\u001b[0m\u001b[1;33m\u001b[0m\u001b[0m\n\u001b[1;32m--> 605\u001b[1;33m             \u001b[0mout\u001b[0m \u001b[1;33m=\u001b[0m \u001b[0mcheck_array\u001b[0m\u001b[1;33m(\u001b[0m\u001b[0mX\u001b[0m\u001b[1;33m,\u001b[0m \u001b[0minput_name\u001b[0m\u001b[1;33m=\u001b[0m\u001b[1;34m\"X\"\u001b[0m\u001b[1;33m,\u001b[0m \u001b[1;33m**\u001b[0m\u001b[0mcheck_params\u001b[0m\u001b[1;33m)\u001b[0m\u001b[1;33m\u001b[0m\u001b[1;33m\u001b[0m\u001b[0m\n\u001b[0m\u001b[0;32m    606\u001b[0m         \u001b[1;32melif\u001b[0m \u001b[0mno_val_X\u001b[0m \u001b[1;32mand\u001b[0m \u001b[1;32mnot\u001b[0m \u001b[0mno_val_y\u001b[0m\u001b[1;33m:\u001b[0m\u001b[1;33m\u001b[0m\u001b[1;33m\u001b[0m\u001b[0m\n\u001b[0;32m    607\u001b[0m             \u001b[0mout\u001b[0m \u001b[1;33m=\u001b[0m \u001b[0m_check_y\u001b[0m\u001b[1;33m(\u001b[0m\u001b[0my\u001b[0m\u001b[1;33m,\u001b[0m \u001b[1;33m**\u001b[0m\u001b[0mcheck_params\u001b[0m\u001b[1;33m)\u001b[0m\u001b[1;33m\u001b[0m\u001b[1;33m\u001b[0m\u001b[0m\n\u001b[0;32m    608\u001b[0m         \u001b[1;32melse\u001b[0m\u001b[1;33m:\u001b[0m\u001b[1;33m\u001b[0m\u001b[1;33m\u001b[0m\u001b[0m\n",
      "\u001b[1;32mC:\\laragon\\bin\\python\\python-3.10\\lib\\site-packages\\sklearn\\utils\\validation.py\u001b[0m in \u001b[0;36m?\u001b[1;34m(array, accept_sparse, accept_large_sparse, dtype, order, copy, force_all_finite, ensure_2d, allow_nd, ensure_min_samples, ensure_min_features, estimator, input_name)\u001b[0m\n\u001b[0;32m    912\u001b[0m                         )\n\u001b[0;32m    913\u001b[0m                     \u001b[0marray\u001b[0m \u001b[1;33m=\u001b[0m \u001b[0mxp\u001b[0m\u001b[1;33m.\u001b[0m\u001b[0mastype\u001b[0m\u001b[1;33m(\u001b[0m\u001b[0marray\u001b[0m\u001b[1;33m,\u001b[0m \u001b[0mdtype\u001b[0m\u001b[1;33m,\u001b[0m \u001b[0mcopy\u001b[0m\u001b[1;33m=\u001b[0m\u001b[1;32mFalse\u001b[0m\u001b[1;33m)\u001b[0m\u001b[1;33m\u001b[0m\u001b[1;33m\u001b[0m\u001b[0m\n\u001b[0;32m    914\u001b[0m                 \u001b[1;32melse\u001b[0m\u001b[1;33m:\u001b[0m\u001b[1;33m\u001b[0m\u001b[1;33m\u001b[0m\u001b[0m\n\u001b[0;32m    915\u001b[0m                     \u001b[0marray\u001b[0m \u001b[1;33m=\u001b[0m \u001b[0m_asarray_with_order\u001b[0m\u001b[1;33m(\u001b[0m\u001b[0marray\u001b[0m\u001b[1;33m,\u001b[0m \u001b[0morder\u001b[0m\u001b[1;33m=\u001b[0m\u001b[0morder\u001b[0m\u001b[1;33m,\u001b[0m \u001b[0mdtype\u001b[0m\u001b[1;33m=\u001b[0m\u001b[0mdtype\u001b[0m\u001b[1;33m,\u001b[0m \u001b[0mxp\u001b[0m\u001b[1;33m=\u001b[0m\u001b[0mxp\u001b[0m\u001b[1;33m)\u001b[0m\u001b[1;33m\u001b[0m\u001b[1;33m\u001b[0m\u001b[0m\n\u001b[1;32m--> 916\u001b[1;33m             \u001b[1;32mexcept\u001b[0m \u001b[0mComplexWarning\u001b[0m \u001b[1;32mas\u001b[0m \u001b[0mcomplex_warning\u001b[0m\u001b[1;33m:\u001b[0m\u001b[1;33m\u001b[0m\u001b[1;33m\u001b[0m\u001b[0m\n\u001b[0m\u001b[0;32m    917\u001b[0m                 raise ValueError(\n\u001b[0;32m    918\u001b[0m                     \u001b[1;34m\"Complex data not supported\\n{}\\n\"\u001b[0m\u001b[1;33m.\u001b[0m\u001b[0mformat\u001b[0m\u001b[1;33m(\u001b[0m\u001b[0marray\u001b[0m\u001b[1;33m)\u001b[0m\u001b[1;33m\u001b[0m\u001b[1;33m\u001b[0m\u001b[0m\n\u001b[0;32m    919\u001b[0m                 ) from complex_warning\n",
      "\u001b[1;32mC:\\laragon\\bin\\python\\python-3.10\\lib\\site-packages\\sklearn\\utils\\_array_api.py\u001b[0m in \u001b[0;36m?\u001b[1;34m(array, dtype, order, copy, xp)\u001b[0m\n\u001b[0;32m    376\u001b[0m         \u001b[1;31m# Use NumPy API to support order\u001b[0m\u001b[1;33m\u001b[0m\u001b[1;33m\u001b[0m\u001b[0m\n\u001b[0;32m    377\u001b[0m         \u001b[1;32mif\u001b[0m \u001b[0mcopy\u001b[0m \u001b[1;32mis\u001b[0m \u001b[1;32mTrue\u001b[0m\u001b[1;33m:\u001b[0m\u001b[1;33m\u001b[0m\u001b[1;33m\u001b[0m\u001b[0m\n\u001b[0;32m    378\u001b[0m             \u001b[0marray\u001b[0m \u001b[1;33m=\u001b[0m \u001b[0mnumpy\u001b[0m\u001b[1;33m.\u001b[0m\u001b[0marray\u001b[0m\u001b[1;33m(\u001b[0m\u001b[0marray\u001b[0m\u001b[1;33m,\u001b[0m \u001b[0morder\u001b[0m\u001b[1;33m=\u001b[0m\u001b[0morder\u001b[0m\u001b[1;33m,\u001b[0m \u001b[0mdtype\u001b[0m\u001b[1;33m=\u001b[0m\u001b[0mdtype\u001b[0m\u001b[1;33m)\u001b[0m\u001b[1;33m\u001b[0m\u001b[1;33m\u001b[0m\u001b[0m\n\u001b[0;32m    379\u001b[0m         \u001b[1;32melse\u001b[0m\u001b[1;33m:\u001b[0m\u001b[1;33m\u001b[0m\u001b[1;33m\u001b[0m\u001b[0m\n\u001b[1;32m--> 380\u001b[1;33m             \u001b[0marray\u001b[0m \u001b[1;33m=\u001b[0m \u001b[0mnumpy\u001b[0m\u001b[1;33m.\u001b[0m\u001b[0masarray\u001b[0m\u001b[1;33m(\u001b[0m\u001b[0marray\u001b[0m\u001b[1;33m,\u001b[0m \u001b[0morder\u001b[0m\u001b[1;33m=\u001b[0m\u001b[0morder\u001b[0m\u001b[1;33m,\u001b[0m \u001b[0mdtype\u001b[0m\u001b[1;33m=\u001b[0m\u001b[0mdtype\u001b[0m\u001b[1;33m)\u001b[0m\u001b[1;33m\u001b[0m\u001b[1;33m\u001b[0m\u001b[0m\n\u001b[0m\u001b[0;32m    381\u001b[0m \u001b[1;33m\u001b[0m\u001b[0m\n\u001b[0;32m    382\u001b[0m         \u001b[1;31m# At this point array is a NumPy ndarray. We convert it to an array\u001b[0m\u001b[1;33m\u001b[0m\u001b[1;33m\u001b[0m\u001b[0m\n\u001b[0;32m    383\u001b[0m         \u001b[1;31m# container that is consistent with the input's namespace.\u001b[0m\u001b[1;33m\u001b[0m\u001b[1;33m\u001b[0m\u001b[0m\n",
      "\u001b[1;32mC:\\laragon\\bin\\python\\python-3.10\\lib\\site-packages\\pandas\\core\\generic.py\u001b[0m in \u001b[0;36m?\u001b[1;34m(self, dtype)\u001b[0m\n\u001b[0;32m   2082\u001b[0m     \u001b[1;32mdef\u001b[0m \u001b[0m__array__\u001b[0m\u001b[1;33m(\u001b[0m\u001b[0mself\u001b[0m\u001b[1;33m,\u001b[0m \u001b[0mdtype\u001b[0m\u001b[1;33m:\u001b[0m \u001b[0mnpt\u001b[0m\u001b[1;33m.\u001b[0m\u001b[0mDTypeLike\u001b[0m \u001b[1;33m|\u001b[0m \u001b[1;32mNone\u001b[0m \u001b[1;33m=\u001b[0m \u001b[1;32mNone\u001b[0m\u001b[1;33m)\u001b[0m \u001b[1;33m->\u001b[0m \u001b[0mnp\u001b[0m\u001b[1;33m.\u001b[0m\u001b[0mndarray\u001b[0m\u001b[1;33m:\u001b[0m\u001b[1;33m\u001b[0m\u001b[1;33m\u001b[0m\u001b[0m\n\u001b[0;32m   2083\u001b[0m         \u001b[0mvalues\u001b[0m \u001b[1;33m=\u001b[0m \u001b[0mself\u001b[0m\u001b[1;33m.\u001b[0m\u001b[0m_values\u001b[0m\u001b[1;33m\u001b[0m\u001b[1;33m\u001b[0m\u001b[0m\n\u001b[1;32m-> 2084\u001b[1;33m         \u001b[0marr\u001b[0m \u001b[1;33m=\u001b[0m \u001b[0mnp\u001b[0m\u001b[1;33m.\u001b[0m\u001b[0masarray\u001b[0m\u001b[1;33m(\u001b[0m\u001b[0mvalues\u001b[0m\u001b[1;33m,\u001b[0m \u001b[0mdtype\u001b[0m\u001b[1;33m=\u001b[0m\u001b[0mdtype\u001b[0m\u001b[1;33m)\u001b[0m\u001b[1;33m\u001b[0m\u001b[1;33m\u001b[0m\u001b[0m\n\u001b[0m\u001b[0;32m   2085\u001b[0m         if (\n\u001b[0;32m   2086\u001b[0m             \u001b[0mastype_is_view\u001b[0m\u001b[1;33m(\u001b[0m\u001b[0mvalues\u001b[0m\u001b[1;33m.\u001b[0m\u001b[0mdtype\u001b[0m\u001b[1;33m,\u001b[0m \u001b[0marr\u001b[0m\u001b[1;33m.\u001b[0m\u001b[0mdtype\u001b[0m\u001b[1;33m)\u001b[0m\u001b[1;33m\u001b[0m\u001b[1;33m\u001b[0m\u001b[0m\n\u001b[0;32m   2087\u001b[0m             \u001b[1;32mand\u001b[0m \u001b[0musing_copy_on_write\u001b[0m\u001b[1;33m(\u001b[0m\u001b[1;33m)\u001b[0m\u001b[1;33m\u001b[0m\u001b[1;33m\u001b[0m\u001b[0m\n",
      "\u001b[1;31mValueError\u001b[0m: could not convert string to float: 'Mardiono Ungkap Dasar Hukum Pemberhentian Suharso Monoarfa dari Ketum PPP jauh hari sebelumnyaSuharso sebut Pemberhentiannya tak sahSementara itu Suharso menyatakan keputusan pemakzulannya dari jabatan Ketua Umum PPP tidak sah Menurutnya rapat pimpinan harian mestinya dilakukan dengan sepengetahuannya Adapun jika Suharso berhalangan hadir maka ia bakal mengirim delegasiRapat pimpinan harian harus sepengetahuan saya minimal dan saya tanda tangani atau Sekretaris Jenderal Boleh saja saya berhalangan hadir dan meminta salah satu ketua umum untuk memimpin tapi rapat pimpinan harian mesti dipimpin ketum diinisiasi ketum dan ditandatangani ketum Kemudian itu tidak dilakukan kata Suharso saat ditemui di Hotel Aston Kuningan Jakarta Selatan Selasa 6 September 2022Apalagi kata Suharso setelah rapat pimpinan harian para pengurus memutuskan melakukan mukernas Menurutnya mukernas tidak pernah dilakukan dalam waktu yang singkat Dia mengatakan ada pihak yang meminta untuk digelar mukernas namun setelah dikaliberasi permintaan ini tidak benarHal lain yang menurut Suharso tidak baik adalah mukernas digelar tanpa mendapatkan Surat Tanda Terima Pemberitahuan STTP dari Kepolisian RI Menurutnya untuk menggelar forum tingkat nasional seperti mukernas maka perlu ada STTP yang dikeluarkan pihak kepolisianDan saya juga mendapatkan laporan Mukernas itu tidak mendapatkan STTP dari Polri Karena ini tingkatan nasional maka ini yang mengeluarkan harusnya Mabes Polri Dan saya mengatakan itu tidak oleh kami Kami juga laporkan ke Kapolri bahwa itu tidak benar Bahwa kami tidak sedang melakukan Mukernas ujarnya'"
     ]
    }
   ],
   "source": [
    "# Evaluasi model pada data testing\n",
    "y_test_pred = pac.predict(tfidf_test)\n",
    "test_score = accuracy_score(y_test, y_test_pred)\n",
    "\n",
    "# Menampilkan akurasi pada data testing\n",
    "print(f'Akurasi pada Data Testing: {round(test_score * 100, 2)}%')"
   ]
  },
  {
   "cell_type": "code",
   "execution_count": 36,
   "metadata": {
    "colab": {
     "base_uri": "https://localhost:8080/"
    },
    "executionInfo": {
     "elapsed": 1197,
     "status": "ok",
     "timestamp": 1699896173748,
     "user": {
      "displayName": "Pratama Nathanael Ferry",
      "userId": "10772248483527331591"
     },
     "user_tz": -420
    },
    "id": "cHHuXjpOtKKF",
    "outputId": "67ce4049-8184-47b8-d6c8-ba63641259b7"
   },
   "outputs": [
    {
     "data": {
      "text/plain": [
       "['data_indonesia_model/model_hoax_detection.pkl']"
      ]
     },
     "execution_count": 36,
     "metadata": {},
     "output_type": "execute_result"
    }
   ],
   "source": [
    "# Simpan model ke file\n",
    "model_filename = 'data_indonesia_model/model_hoax_detection.pkl'\n",
    "joblib.dump(pac, model_filename)"
   ]
  },
  {
   "cell_type": "code",
   "execution_count": 37,
   "metadata": {
    "colab": {
     "base_uri": "https://localhost:8080/"
    },
    "executionInfo": {
     "elapsed": 2501,
     "status": "ok",
     "timestamp": 1699896187999,
     "user": {
      "displayName": "Pratama Nathanael Ferry",
      "userId": "10772248483527331591"
     },
     "user_tz": -420
    },
    "id": "T6RxYqs8sDCw",
    "outputId": "2e959bb7-adbc-42f0-bbb2-f92123a8df78"
   },
   "outputs": [
    {
     "data": {
      "text/plain": [
       "['data_indonesia_model/tfidf_vectorizer.pkl']"
      ]
     },
     "execution_count": 37,
     "metadata": {},
     "output_type": "execute_result"
    }
   ],
   "source": [
    "# Simpan TfidfVectorizer ke file\n",
    "vectorizer_filename = 'data_indonesia_model/tfidf_vectorizer.pkl'\n",
    "joblib.dump(tfidf_vectorizer, vectorizer_filename)"
   ]
  }
 ],
 "metadata": {
  "colab": {
   "provenance": []
  },
  "kernelspec": {
   "display_name": "Python 3 (ipykernel)",
   "language": "python",
   "name": "python3"
  },
  "language_info": {
   "codemirror_mode": {
    "name": "ipython",
    "version": 3
   },
   "file_extension": ".py",
   "mimetype": "text/x-python",
   "name": "python",
   "nbconvert_exporter": "python",
   "pygments_lexer": "ipython3",
   "version": "3.10.6"
  }
 },
 "nbformat": 4,
 "nbformat_minor": 4
}
