{
 "cells": [
  {
   "cell_type": "code",
   "execution_count": 1,
   "metadata": {
    "colab": {
     "base_uri": "https://localhost:8080/"
    },
    "executionInfo": {
     "elapsed": 11684,
     "status": "ok",
     "timestamp": 1699896592306,
     "user": {
      "displayName": "Pratama Nathanael Ferry",
      "userId": "10772248483527331591"
     },
     "user_tz": -420
    },
    "id": "zWfZu48p5m3t",
    "outputId": "5f881b17-9688-4d65-86b1-6689fcbaab68"
   },
   "outputs": [
    {
     "name": "stdout",
     "output_type": "stream",
     "text": [
      "Collecting Sastrawi\n",
      "  Downloading Sastrawi-1.0.1-py2.py3-none-any.whl (209 kB)\n",
      "     ---------------------------------------- 0.0/209.7 kB ? eta -:--:--\n",
      "     - -------------------------------------- 10.2/209.7 kB ? eta -:--:--\n",
      "     ----- ------------------------------- 30.7/209.7 kB 435.7 kB/s eta 0:00:01\n",
      "     ---------- -------------------------- 61.4/209.7 kB 465.5 kB/s eta 0:00:01\n",
      "     --------------------- -------------- 122.9/209.7 kB 717.5 kB/s eta 0:00:01\n",
      "     -------------------------------------- 209.7/209.7 kB 1.2 MB/s eta 0:00:00\n",
      "Installing collected packages: Sastrawi\n",
      "Successfully installed Sastrawi-1.0.1\n",
      "Requirement already satisfied: beautifulsoup4 in c:\\users\\nthanfp\\appdata\\local\\programs\\python\\python312\\lib\\site-packages (4.12.2)\n",
      "Requirement already satisfied: soupsieve>1.2 in c:\\users\\nthanfp\\appdata\\local\\programs\\python\\python312\\lib\\site-packages (from beautifulsoup4) (2.5)\n"
     ]
    }
   ],
   "source": [
    "!pip install Sastrawi\n",
    "!pip install beautifulsoup4"
   ]
  },
  {
   "cell_type": "code",
   "execution_count": 3,
   "metadata": {
    "id": "SXVSv9BUnGAy"
   },
   "outputs": [],
   "source": [
    "import joblib\n",
    "import re\n",
    "from sklearn.feature_extraction.text import TfidfVectorizer\n",
    "from Sastrawi.StopWordRemover.StopWordRemoverFactory import StopWordRemoverFactory\n",
    "from Sastrawi.Stemmer.StemmerFactory import StemmerFactory"
   ]
  },
  {
   "cell_type": "code",
   "execution_count": 4,
   "metadata": {
    "id": "blfMmJYmnS9J"
   },
   "outputs": [],
   "source": [
    "# Load model dari file\n",
    "loaded_pac = joblib.load('data_indonesia_model/model_hoax_detection.pkl')\n",
    "loaded_tfidf_vectorizer = joblib.load('data_indonesia_model/tfidf_vectorizer.pkl')"
   ]
  },
  {
   "cell_type": "code",
   "execution_count": 11,
   "metadata": {
    "id": "5cLqvERunWMH"
   },
   "outputs": [],
   "source": [
    "def predict_hoax(title, text_new):\n",
    "    if not title or not text_new:\n",
    "        return \"Input tidak valid, harap berikan baik judul maupun text_new.\"\n",
    "    # Gabungkan title dan text_new menjadi satu teks\n",
    "    combined_text = f'{title} {text_new}'\n",
    "\n",
    "    # Transform teks menggunakan TfidfVectorizer yang sudah di-load\n",
    "    tfidf_text = loaded_tfidf_vectorizer.transform([combined_text])\n",
    "\n",
    "    # Lakukan prediksi dengan model Passive Aggressive Classifier yang sudah di-load\n",
    "    prediction = loaded_pac.predict(tfidf_text)\n",
    "\n",
    "    return prediction[0]"
   ]
  },
  {
   "cell_type": "code",
   "execution_count": null,
   "metadata": {},
   "outputs": [],
   "source": [
    "def clean_text(text):\n",
    "    # Menghapus karakter non-alfanumerik dan angka\n",
    "    text = re.sub(r'[^a-zA-Z\\s]', '', text)\n",
    "\n",
    "    # Mengonversi teks ke huruf kecil\n",
    "    text = text.lower()\n",
    "\n",
    "    # Menghapus stop words menggunakan Sastrawi StopWordRemover\n",
    "    stopword_factory = StopWordRemoverFactory()\n",
    "    stopword_remover = stopword_factory.create_stop_word_remover()\n",
    "    text = stopword_remover.remove(text)\n",
    "\n",
    "    # Stemming teks menggunakan Sastrawi Stemmer\n",
    "    stemmer_factory = StemmerFactory()\n",
    "    stemmer = stemmer_factory.create_stemmer()\n",
    "    text = stemmer.stem(text)\n",
    "\n",
    "    return text"
   ]
  },
  {
   "cell_type": "code",
   "execution_count": 12,
   "metadata": {
    "id": "WT7zhjFGnZyT"
   },
   "outputs": [
    {
     "name": "stdout",
     "output_type": "stream",
     "text": [
      "Hasil Prediksi: FAKE\n"
     ]
    }
   ],
   "source": [
    "# Contoh penggunaan\n",
    "example_title = \"Judul Contoh\"\n",
    "example_text_new = \"Beredar akun whatsapp kepala dinas perikanan dan peternakan kabupaten garut yaitu beni yoga gunasantika akun whatsapp bernomor 62 813 1456 0495 memakai foto beni menggunakan pakaian dinasfaktanya akun whatsapp tersebut palsu diskominfo garut menginformasikan kepada masyarakat untuk berhatihati terhadap akun yang mengatasnamakan kepala dinas perikanan dan peternakan beni yoga gunasantika jika mendapatkan pesan serupa hubungi hotline 087841421567 untuk layanan informasi dan pengaduan hoaks\"\n",
    "\n",
    "result = predict_hoax(example_title, example_text_new)\n",
    "print(f'Hasil Prediksi: {result}')\n"
   ]
  }
 ],
 "metadata": {
  "colab": {
   "authorship_tag": "ABX9TyOpChM6EmA//iRyTxSiLq13",
   "provenance": []
  },
  "kernelspec": {
   "display_name": "Python 3 (ipykernel)",
   "language": "python",
   "name": "python3"
  },
  "language_info": {
   "codemirror_mode": {
    "name": "ipython",
    "version": 3
   },
   "file_extension": ".py",
   "mimetype": "text/x-python",
   "name": "python",
   "nbconvert_exporter": "python",
   "pygments_lexer": "ipython3",
   "version": "3.12.0"
  }
 },
 "nbformat": 4,
 "nbformat_minor": 4
}
