{
 "cells": [
  {
   "cell_type": "code",
   "execution_count": 169,
   "metadata": {
    "id": "7IKrZlDiAcM6"
   },
   "outputs": [],
   "source": [
    "## Rekayasa Perangkat Lunak Menggunakan SKLearn, TFID-Vectorizer, dan Algoritma Passive Aggressive Classifier\n",
    "\n",
    "## Diajukan untuk Tugas Ujian Akhir Semester mata kuliah Rekasaya Perangkat Lunak Lanjut\n",
    "## Disusun oleh:\n",
    "## * 2021130019 - Nathanael Ferry Pratama\n",
    "## * 2021130021 - Jevon Ivander Juandy\n"
   ]
  },
  {
   "cell_type": "code",
   "execution_count": 170,
   "metadata": {
    "colab": {
     "base_uri": "https://localhost:8080/"
    },
    "executionInfo": {
     "elapsed": 3453,
     "status": "ok",
     "timestamp": 1699895879716,
     "user": {
      "displayName": "Pratama Nathanael Ferry",
      "userId": "10772248483527331591"
     },
     "user_tz": -420
    },
    "id": "hoePd9uP5Sai",
    "outputId": "a911fa46-a275-4f18-d2e2-b02611108181"
   },
   "outputs": [],
   "source": [
    "# Import library yang dibutuhkan\n",
    "import numpy as np\n",
    "import pandas as pd\n",
    "import itertools\n",
    "from sklearn.model_selection import train_test_split\n",
    "from sklearn.feature_extraction.text import TfidfVectorizer\n",
    "from sklearn.linear_model import PassiveAggressiveClassifier\n",
    "from sklearn.metrics import accuracy_score, confusion_matrix\n",
    "from sklearn.metrics import classification_report\n",
    "\n",
    "import joblib\n",
    "import seaborn as sns\n",
    "import matplotlib.pyplot as plt\n"
   ]
  },
  {
   "cell_type": "code",
   "execution_count": 171,
   "metadata": {
    "colab": {
     "base_uri": "https://localhost:8080/",
     "height": 225
    },
    "executionInfo": {
     "elapsed": 11877,
     "status": "ok",
     "timestamp": 1699895891583,
     "user": {
      "displayName": "Pratama Nathanael Ferry",
      "userId": "10772248483527331591"
     },
     "user_tz": -420
    },
    "id": "Mofy4sm_552m",
    "outputId": "41e74cc6-3e85-4830-dc64-236b4ce75481"
   },
   "outputs": [
    {
     "name": "stdout",
     "output_type": "stream",
     "text": [
      "shape :  (26847, 4)\n"
     ]
    },
    {
     "data": {
      "text/html": [
       "<div>\n",
       "<style scoped>\n",
       "    .dataframe tbody tr th:only-of-type {\n",
       "        vertical-align: middle;\n",
       "    }\n",
       "\n",
       "    .dataframe tbody tr th {\n",
       "        vertical-align: top;\n",
       "    }\n",
       "\n",
       "    .dataframe thead th {\n",
       "        text-align: right;\n",
       "    }\n",
       "</style>\n",
       "<table border=\"1\" class=\"dataframe\">\n",
       "  <thead>\n",
       "    <tr style=\"text-align: right;\">\n",
       "      <th></th>\n",
       "      <th>Unnamed: 0</th>\n",
       "      <th>title</th>\n",
       "      <th>text_new</th>\n",
       "      <th>label</th>\n",
       "    </tr>\n",
       "  </thead>\n",
       "  <tbody>\n",
       "    <tr>\n",
       "      <th>0</th>\n",
       "      <td>337</td>\n",
       "      <td>BERITA FOTO: Megawati Pidato di HUT Ke-50 PDI ...</td>\n",
       "      <td>BERITA FOTO Megawati Pidato di HUT Ke50 PDI Pe...</td>\n",
       "      <td>REAL</td>\n",
       "    </tr>\n",
       "    <tr>\n",
       "      <th>1</th>\n",
       "      <td>1221</td>\n",
       "      <td>[SALAH] “Kadrun adalah sebutan PKI tahun 1960a...</td>\n",
       "      <td>Kadrun kadal gurun adalah sebutan PKIkomunis t...</td>\n",
       "      <td>FAKE</td>\n",
       "    </tr>\n",
       "    <tr>\n",
       "      <th>2</th>\n",
       "      <td>9870</td>\n",
       "      <td>[HOAX] Shinta Nuriyah Dikatakan Berkomentar So...</td>\n",
       "      <td>Wahai Saudaraku Barisan Ansor Barisan yang sel...</td>\n",
       "      <td>FAKE</td>\n",
       "    </tr>\n",
       "    <tr>\n",
       "      <th>3</th>\n",
       "      <td>3150</td>\n",
       "      <td>Survei Indikator: Kepuasan Publik Atas Kinerja...</td>\n",
       "      <td>Survei Indikator Kepuasan Publik Atas Kinerja ...</td>\n",
       "      <td>REAL</td>\n",
       "    </tr>\n",
       "    <tr>\n",
       "      <th>4</th>\n",
       "      <td>721</td>\n",
       "      <td>[SALAH]: Puluhan Orang Cidera Parah Gas Air Ma...</td>\n",
       "      <td>BERITA TERKINI APARAT BIADAP PULUHAN JADI KORB...</td>\n",
       "      <td>FAKE</td>\n",
       "    </tr>\n",
       "  </tbody>\n",
       "</table>\n",
       "</div>"
      ],
      "text/plain": [
       "   Unnamed: 0                                              title  \\\n",
       "0         337  BERITA FOTO: Megawati Pidato di HUT Ke-50 PDI ...   \n",
       "1        1221  [SALAH] “Kadrun adalah sebutan PKI tahun 1960a...   \n",
       "2        9870  [HOAX] Shinta Nuriyah Dikatakan Berkomentar So...   \n",
       "3        3150  Survei Indikator: Kepuasan Publik Atas Kinerja...   \n",
       "4         721  [SALAH]: Puluhan Orang Cidera Parah Gas Air Ma...   \n",
       "\n",
       "                                            text_new label  \n",
       "0  BERITA FOTO Megawati Pidato di HUT Ke50 PDI Pe...  REAL  \n",
       "1  Kadrun kadal gurun adalah sebutan PKIkomunis t...  FAKE  \n",
       "2  Wahai Saudaraku Barisan Ansor Barisan yang sel...  FAKE  \n",
       "3  Survei Indikator Kepuasan Publik Atas Kinerja ...  REAL  \n",
       "4  BERITA TERKINI APARAT BIADAP PULUHAN JADI KORB...  FAKE  "
      ]
     },
     "execution_count": 171,
     "metadata": {},
     "output_type": "execute_result"
    }
   ],
   "source": [
    "# Membaca data\n",
    "dataframenya = pd.read_excel('data_indonesia/dataset_full.xlsx')\n",
    "\n",
    "# Menampilkan shape dan lima baris pertama dalam dataset\n",
    "print(\"shape : \", dataframenya.shape)\n",
    "dataframenya.head()"
   ]
  },
  {
   "cell_type": "code",
   "execution_count": 172,
   "metadata": {
    "colab": {
     "base_uri": "https://localhost:8080/"
    },
    "executionInfo": {
     "elapsed": 50,
     "status": "ok",
     "timestamp": 1699895891584,
     "user": {
      "displayName": "Pratama Nathanael Ferry",
      "userId": "10772248483527331591"
     },
     "user_tz": -420
    },
    "id": "cORkD8hV7atZ",
    "outputId": "60e30df3-eabf-40dd-ba27-4cd087ddfcb1"
   },
   "outputs": [
    {
     "data": {
      "text/plain": [
       "0    REAL\n",
       "1    FAKE\n",
       "2    FAKE\n",
       "3    REAL\n",
       "4    FAKE\n",
       "Name: label, dtype: object"
      ]
     },
     "execution_count": 172,
     "metadata": {},
     "output_type": "execute_result"
    }
   ],
   "source": [
    "# Menampilkan label-labelnya\n",
    "labels = dataframenya.label\n",
    "labels.head()"
   ]
  },
  {
   "cell_type": "code",
   "execution_count": 173,
   "metadata": {
    "colab": {
     "base_uri": "https://localhost:8080/"
    },
    "executionInfo": {
     "elapsed": 43,
     "status": "ok",
     "timestamp": 1699895891585,
     "user": {
      "displayName": "Pratama Nathanael Ferry",
      "userId": "10772248483527331591"
     },
     "user_tz": -420
    },
    "id": "LB2E37ilJXJk",
    "outputId": "8b5b09d8-d065-4cac-e2d8-52999a1d2a7f"
   },
   "outputs": [
    {
     "data": {
      "text/plain": [
       "0    BERITA FOTO: Megawati Pidato di HUT Ke-50 PDI ...\n",
       "1    [SALAH] “Kadrun adalah sebutan PKI tahun 1960a...\n",
       "2    [HOAX] Shinta Nuriyah Dikatakan Berkomentar So...\n",
       "3    Survei Indikator: Kepuasan Publik Atas Kinerja...\n",
       "4    [SALAH]: Puluhan Orang Cidera Parah Gas Air Ma...\n",
       "Name: title, dtype: object"
      ]
     },
     "execution_count": 173,
     "metadata": {},
     "output_type": "execute_result"
    }
   ],
   "source": [
    "# Menampilkan title\n",
    "titles = dataframenya.title\n",
    "titles.head()"
   ]
  },
  {
   "cell_type": "code",
   "execution_count": 174,
   "metadata": {
    "executionInfo": {
     "elapsed": 31,
     "status": "ok",
     "timestamp": 1699895891586,
     "user": {
      "displayName": "Pratama Nathanael Ferry",
      "userId": "10772248483527331591"
     },
     "user_tz": -420
    },
    "id": "QHUi7P8o7eiN"
   },
   "outputs": [],
   "source": [
    "# Split dataset menjadi training dan testing sets\n",
    "x_train, x_temp, y_train, y_temp = train_test_split(dataframenya['text_new'], labels, test_size=0.4, random_state=42)\n",
    "x_validation, x_test, y_validation, y_test = train_test_split(x_temp, y_temp, test_size=0.5, random_state=42)"
   ]
  },
  {
   "cell_type": "code",
   "execution_count": 175,
   "metadata": {
    "executionInfo": {
     "elapsed": 15041,
     "status": "ok",
     "timestamp": 1699895906598,
     "user": {
      "displayName": "Pratama Nathanael Ferry",
      "userId": "10772248483527331591"
     },
     "user_tz": -420
    },
    "id": "nYaySGC37hQw"
   },
   "outputs": [],
   "source": [
    "# Daftar kata-kata \"stop words\" dalam bahasa Indonesia\n",
    "stop_words_indonesia = [\"dan\", \"di\", \"ke\", \"dari\", \"untuk\", \"adalah\", \"pada\", \"dalam\", \"itu\", \"dengan\", \"atau\", \"oleh\", \"yang\", \"saya\", \"kita\", \"mereka\", \"kamu\", \"akan\", \"juga\", \"bagi\", \"namun\", \"apakah\", \"mengapa\", \"ketika\", \"sehingga\", \"hanya\", \"belum\", \"lagi\", \"sudah\", \"tapi\", \"kami\", \"anda\", \"ia\", \"kini\", \"saja\", \"boleh\", \"bolehkah\", \"harus\", \"perlu\", \"mesti\", \"bisa\", \"dapat\", \"masih\", \"tidak\", \"ya\", \"tidak\", \"iya\", \"ya\", \"tentang\", \"menurut\", \"menjadi\", \"kemudian\", \"begini\", \"begitu\", \"setelah\", \"sebelum\", \"hingga\", \"serta\", \"itulah\", \"padahal\", \"tetapi\", \"jika\", \"sebab\", \"karena\", \"maka\", \"kemudian\", \"tadinya\", \"sambil\", \"kecuali\", \"supaya\", \"meskipun\", \"sebab\", \"kalau\", \"apabila\", \"meski\", \"walaupun\", \"bagaimana\", \"beginilah\", \"beginikan\", \"selama\", \"paling\", \"lebih\", \"setiap\", \"hampir\", \"terlalu\", \"mungkin\", \"sedikit\", \"justru\", \"bahkan\", \"sering\", \"biasanya\", \"saja\", \"cuma\", \"malah\", \"baru\", \"seperti\", \"tersebut\", \"ingin\", \"boleh\", \"tidak\", \"belumlah\", \"tapi\", \"sudahlah\", \"ya\", \"mari\", \"ayo\", \"hayo\", \"hanya\", \"saja\", \"lagi\", \"nanti\", \"setelah\", \"besok\", \"siang\", \"malam\", \"minggu\", \"bulan\", \"tahun\", \"yang\", \"ini\", \"itu\", \"anu\", \"deh\", \"banget\", \"dong\", \"nongkrong\", \"udah\", \"belom\", \"masuk\", \"kemana\", \"nanya\", \"berapa\", \"sih\", \"dong\", \"ngejar\", \"serius\", \"lho\", \"loh\", \"katanya\", \"lah\", \"kan\", \"nggak\", \"gimana\", \"ngga\", \"duh\", \"yo\", \"bang\", \"bro\", \"pa\", \"mbak\", \"mas\", \"mbak\", \"dok\", \"suster\", \"dr\"]\n",
    "\n",
    "# Inisialisasi TfidfVectorizer\n",
    "tfidf_vectorizer = TfidfVectorizer(stop_words=stop_words_indonesia, max_df=0.7)\n",
    "\n",
    "# Fit dan transform train set, transform validation set, transform test set\n",
    "tfidf_train = tfidf_vectorizer.fit_transform(x_train)\n",
    "tfidf_validation = tfidf_vectorizer.transform(x_validation)\n",
    "tfidf_test = tfidf_vectorizer.transform(x_test)"
   ]
  },
  {
   "cell_type": "code",
   "execution_count": 176,
   "metadata": {
    "colab": {
     "base_uri": "https://localhost:8080/"
    },
    "executionInfo": {
     "elapsed": 65,
     "status": "ok",
     "timestamp": 1699895906600,
     "user": {
      "displayName": "Pratama Nathanael Ferry",
      "userId": "10772248483527331591"
     },
     "user_tz": -420
    },
    "id": "0SLOO6_W7oj-",
    "outputId": "1073ce8f-e5d8-474b-e98a-9ae01f3f18a6"
   },
   "outputs": [
    {
     "name": "stdout",
     "output_type": "stream",
     "text": [
      "Akurasi pada Data Validation: 98.16%\n"
     ]
    }
   ],
   "source": [
    "# Inisialisasi PassiveAggressiveClassifier\n",
    "pac = PassiveAggressiveClassifier(max_iter=50)\n",
    "pac.fit(tfidf_train, y_train)\n",
    "\n",
    "# Prediksi validation set dan kalkulasi keakuratan\n",
    "y_validation_pred = pac.predict(tfidf_validation)\n",
    "validation_score = accuracy_score(y_validation, y_validation_pred)\n",
    "print(f'Akurasi pada Data Validation: {round(validation_score * 100, 2)}%')"
   ]
  },
  {
   "cell_type": "code",
   "execution_count": 177,
   "metadata": {},
   "outputs": [
    {
     "name": "stdout",
     "output_type": "stream",
     "text": [
      "Akurasi pada Data Test: 98.62%\n"
     ]
    }
   ],
   "source": [
    "# Evaluasi model pada data test\n",
    "y_test_pred = pac.predict(tfidf_test)\n",
    "test_score = accuracy_score(y_test, y_test_pred)\n",
    "print(f'Akurasi pada Evaluasi Data Test: {round(test_score * 100, 2)}%')"
   ]
  },
  {
   "cell_type": "code",
   "execution_count": 178,
   "metadata": {
    "colab": {
     "base_uri": "https://localhost:8080/",
     "height": 601
    },
    "executionInfo": {
     "elapsed": 780,
     "status": "ok",
     "timestamp": 1699895907321,
     "user": {
      "displayName": "Pratama Nathanael Ferry",
      "userId": "10772248483527331591"
     },
     "user_tz": -420
    },
    "id": "465ZPatR7u9F",
    "outputId": "11f669cd-e327-4c1b-b91e-b588fd2b134b"
   },
   "outputs": [
    {
     "name": "stdout",
     "output_type": "stream",
     "text": [
      "[[ 290  977]\n",
      " [ 939 3164]]\n"
     ]
    },
    {
     "data": {
      "image/png": "[encoded data removed]",
      "text/plain": [
       "<Figure size 800x600 with 2 Axes>"
      ]
     },
     "metadata": {},
     "output_type": "display_data"
    }
   ],
   "source": [
    "# Membuat confusion matrix\n",
    "cm = confusion_matrix(y_test,y_pred, labels = ['FAKE','REAL'])\n",
    "print(cm)\n",
    "\n",
    "# Visualisasi menggunakan heatmap dari seaborn\n",
    "plt.figure(figsize=(8, 6))\n",
    "sns.heatmap(cm, annot=True, fmt='d', cmap='Blues', xticklabels=['FAKE', 'REAL'], yticklabels=['FAKE', 'REAL'])\n",
    "plt.xlabel('Predicted')\n",
    "plt.ylabel('Actual')\n",
    "plt.title('Confusion Matrix')\n",
    "plt.show()"
   ]
  },
  {
   "cell_type": "code",
   "execution_count": 179,
   "metadata": {},
   "outputs": [
    {
     "name": "stdout",
     "output_type": "stream",
     "text": [
      "Classification Report pada Data Training:\n",
      "              precision    recall  f1-score   support\n",
      "\n",
      "        FAKE       0.24      0.23      0.23      1267\n",
      "        REAL       0.76      0.77      0.77      4103\n",
      "\n",
      "    accuracy                           0.64      5370\n",
      "   macro avg       0.50      0.50      0.50      5370\n",
      "weighted avg       0.64      0.64      0.64      5370\n",
      "\n"
     ]
    }
   ],
   "source": [
    "# Menampilkan Classification Report pada data training\n",
    "train_classification_rep = classification_report(y_test, y_pred, target_names=['FAKE', 'REAL'])\n",
    "print(\"Classification Report pada Data Training:\")\n",
    "print(train_classification_rep)"
   ]
  },
  {
   "cell_type": "code",
   "execution_count": 180,
   "metadata": {},
   "outputs": [
    {
     "name": "stdout",
     "output_type": "stream",
     "text": [
      "Akurasi pada Data Evaluasi: 98.62%\n"
     ]
    }
   ],
   "source": [
    "# Prediksi data evaluasi\n",
    "tfidf_evaluasi = tfidf_vectorizer.transform(x_test)\n",
    "y_evaluasi_pred = pac.predict(tfidf_evaluasi)\n",
    "\n",
    "# Menghitung dan menampilkan akurasi\n",
    "evaluasi_score = accuracy_score(y_test, y_evaluasi_pred)\n",
    "print(f'Akurasi pada Data Evaluasi: {round(evaluasi_score * 100, 2)}%')"
   ]
  },
  {
   "cell_type": "code",
   "execution_count": 181,
   "metadata": {
    "executionInfo": {
     "elapsed": 451,
     "status": "ok",
     "timestamp": 1699896287120,
     "user": {
      "displayName": "Pratama Nathanael Ferry",
      "userId": "10772248483527331591"
     },
     "user_tz": -420
    },
    "id": "BfDacg4OAitV"
   },
   "outputs": [],
   "source": [
    "# Membuat DataFrame baru untuk data testing\n",
    "testing_data = x_test.to_frame()\n",
    "testing_data['actual_label'] = y_test\n",
    "testing_data['predicted_label'] = y_pred\n",
    "\n",
    "# Filter data 'FAKE' dan 'REAL'\n",
    "fake_data = testing_data[testing_data['predicted_label'] == 'FAKE']\n",
    "real_data = testing_data[testing_data['predicted_label'] == 'REAL']\n",
    "\n",
    "# Ekspor Data ke CSV\n",
    "fake_data.to_csv('data_indonesia/fake_data_predicted.csv', index=False)\n",
    "real_data.to_csv('data_indonesia/real_data_predicted.csv', index=False)"
   ]
  },
  {
   "cell_type": "code",
   "execution_count": 182,
   "metadata": {
    "colab": {
     "base_uri": "https://localhost:8080/"
    },
    "executionInfo": {
     "elapsed": 1197,
     "status": "ok",
     "timestamp": 1699896173748,
     "user": {
      "displayName": "Pratama Nathanael Ferry",
      "userId": "10772248483527331591"
     },
     "user_tz": -420
    },
    "id": "cHHuXjpOtKKF",
    "outputId": "67ce4049-8184-47b8-d6c8-ba63641259b7"
   },
   "outputs": [
    {
     "data": {
      "text/plain": [
       "['data_indonesia_model/model_hoax_detection.pkl']"
      ]
     },
     "execution_count": 182,
     "metadata": {},
     "output_type": "execute_result"
    }
   ],
   "source": [
    "# Simpan model ke file\n",
    "model_filename = 'data_indonesia_model/model_hoax_detection.pkl'\n",
    "joblib.dump(pac, model_filename)"
   ]
  },
  {
   "cell_type": "code",
   "execution_count": 183,
   "metadata": {
    "colab": {
     "base_uri": "https://localhost:8080/"
    },
    "executionInfo": {
     "elapsed": 2501,
     "status": "ok",
     "timestamp": 1699896187999,
     "user": {
      "displayName": "Pratama Nathanael Ferry",
      "userId": "10772248483527331591"
     },
     "user_tz": -420
    },
    "id": "T6RxYqs8sDCw",
    "outputId": "2e959bb7-adbc-42f0-bbb2-f92123a8df78"
   },
   "outputs": [
    {
     "data": {
      "text/plain": [
       "['data_indonesia_model/tfidf_vectorizer.pkl']"
      ]
     },
     "execution_count": 183,
     "metadata": {},
     "output_type": "execute_result"
    }
   ],
   "source": [
    "# Simpan TfidfVectorizer ke file\n",
    "vectorizer_filename = 'data_indonesia_model/tfidf_vectorizer.pkl'\n",
    "joblib.dump(tfidf_vectorizer, vectorizer_filename)"
   ]
  }
 ],
 "metadata": {
  "colab": {
   "provenance": []
  },
  "kernelspec": {
   "display_name": "Python 3 (ipykernel)",
   "language": "python",
   "name": "python3"
  },
  "language_info": {
   "codemirror_mode": {
    "name": "ipython",
    "version": 3
   },
   "file_extension": ".py",
   "mimetype": "text/x-python",
   "name": "python",
   "nbconvert_exporter": "python",
   "pygments_lexer": "ipython3",
   "version": "3.10.6"
  }
 },
 "nbformat": 4,
 "nbformat_minor": 4
}
